{
 "cells": [
  {
   "cell_type": "code",
   "execution_count": 1,
   "metadata": {},
   "outputs": [],
   "source": [
    "import marshmallow"
   ]
  },
  {
   "cell_type": "code",
   "execution_count": 2,
   "metadata": {},
   "outputs": [
    {
     "data": {
      "text/plain": [
       "'3.4.0'"
      ]
     },
     "execution_count": 2,
     "metadata": {},
     "output_type": "execute_result"
    }
   ],
   "source": [
    "marshmallow.__version__"
   ]
  },
  {
   "cell_type": "code",
   "execution_count": 3,
   "metadata": {},
   "outputs": [],
   "source": [
    "from marshmallow import Schema, fields\n",
    "from marshmallow import ValidationError\n",
    "\n",
    "import typing as t\n",
    "import json\n"
   ]
  },
  {
   "cell_type": "code",
   "execution_count": 4,
   "metadata": {},
   "outputs": [],
   "source": [
    "class TestSchema(Schema):\n",
    "    Id = fields.Integer()\n",
    "    MSSubClass = fields.Integer() "
   ]
  },
  {
   "cell_type": "markdown",
   "metadata": {},
   "source": [
    "## Testing marshmallow with valid data"
   ]
  },
  {
   "cell_type": "code",
   "execution_count": 5,
   "metadata": {},
   "outputs": [
    {
     "data": {
      "text/plain": [
       "'[{\"Id\":1462,\"MSSubClass\":20},{\"Id\":5,\"MSSubClass\":55},{\"Id\":41,\"MSSubClass\":44}]'"
      ]
     },
     "execution_count": 5,
     "metadata": {},
     "output_type": "execute_result"
    }
   ],
   "source": [
    "x = '[{\"Id\":1462,\"MSSubClass\":20},{\"Id\":5,\"MSSubClass\":55},{\"Id\":41,\"MSSubClass\":44}]'\n",
    "x"
   ]
  },
  {
   "cell_type": "code",
   "execution_count": 6,
   "metadata": {},
   "outputs": [
    {
     "data": {
      "text/plain": [
       "[{'Id': 1462, 'MSSubClass': 20},\n",
       " {'Id': 5, 'MSSubClass': 55},\n",
       " {'Id': 41, 'MSSubClass': 44}]"
      ]
     },
     "execution_count": 6,
     "metadata": {},
     "output_type": "execute_result"
    }
   ],
   "source": [
    "json.loads(x)"
   ]
  },
  {
   "cell_type": "code",
   "execution_count": 7,
   "metadata": {},
   "outputs": [],
   "source": [
    "schema = TestSchema(many=True)\n",
    "errors = None\n",
    "try:\n",
    "    schema.loads(x)\n",
    "except ValidationError as exc:\n",
    "    errors = exc.messages\n",
    "\n",
    "errors"
   ]
  },
  {
   "cell_type": "markdown",
   "metadata": {},
   "source": [
    "## Testing marshmallow with valid data (but not in order)"
   ]
  },
  {
   "cell_type": "code",
   "execution_count": 9,
   "metadata": {},
   "outputs": [
    {
     "data": {
      "text/plain": [
       "'[{\"Id\":1462,\"MSSubClass\":20},{\"MSSubClass\":55,\"Id\":5},{\"Id\":41,\"MSSubClass\":44}]'"
      ]
     },
     "execution_count": 9,
     "metadata": {},
     "output_type": "execute_result"
    }
   ],
   "source": [
    "x = '[{\"Id\":1462,\"MSSubClass\":20},{\"MSSubClass\":55,\"Id\":5},{\"Id\":41,\"MSSubClass\":44}]'\n",
    "x"
   ]
  },
  {
   "cell_type": "code",
   "execution_count": 10,
   "metadata": {},
   "outputs": [
    {
     "data": {
      "text/plain": [
       "[{'Id': 1462, 'MSSubClass': 20},\n",
       " {'MSSubClass': 55, 'Id': 5},\n",
       " {'Id': 41, 'MSSubClass': 44}]"
      ]
     },
     "execution_count": 10,
     "metadata": {},
     "output_type": "execute_result"
    }
   ],
   "source": [
    "json.loads(x)"
   ]
  },
  {
   "cell_type": "code",
   "execution_count": 11,
   "metadata": {},
   "outputs": [],
   "source": [
    "schema = TestSchema(many=True)\n",
    "errors = None\n",
    "try:\n",
    "    schema.loads(x)\n",
    "except ValidationError as exc:\n",
    "    errors = exc.messages\n",
    "\n",
    "errors"
   ]
  },
  {
   "cell_type": "markdown",
   "metadata": {},
   "source": [
    "## Testing marshmallow with correct data (but with the a missing variable)"
   ]
  },
  {
   "cell_type": "code",
   "execution_count": 12,
   "metadata": {},
   "outputs": [
    {
     "data": {
      "text/plain": [
       "'[{\"Id\":1462,\"MSSubClass\":20},{\"MSSubClass\":55},{\"Id\":41,\"MSSubClass\":44}]'"
      ]
     },
     "execution_count": 12,
     "metadata": {},
     "output_type": "execute_result"
    }
   ],
   "source": [
    "x = '[{\"Id\":1462,\"MSSubClass\":20},{\"MSSubClass\":55},{\"Id\":41,\"MSSubClass\":44}]'\n",
    "x"
   ]
  },
  {
   "cell_type": "code",
   "execution_count": 13,
   "metadata": {},
   "outputs": [
    {
     "data": {
      "text/plain": [
       "[{'Id': 1462, 'MSSubClass': 20},\n",
       " {'MSSubClass': 55},\n",
       " {'Id': 41, 'MSSubClass': 44}]"
      ]
     },
     "execution_count": 13,
     "metadata": {},
     "output_type": "execute_result"
    }
   ],
   "source": [
    "json.loads(x)"
   ]
  },
  {
   "cell_type": "code",
   "execution_count": 14,
   "metadata": {},
   "outputs": [],
   "source": [
    "schema = TestSchema(many=True)\n",
    "errors = None\n",
    "try:\n",
    "    schema.loads(x)\n",
    "except ValidationError as exc:\n",
    "    errors = exc.messages\n",
    "\n",
    "errors"
   ]
  },
  {
   "cell_type": "markdown",
   "metadata": {},
   "source": [
    "## Testing marshmallow with a stricter shema"
   ]
  },
  {
   "cell_type": "code",
   "execution_count": 19,
   "metadata": {},
   "outputs": [
    {
     "data": {
      "text/plain": [
       "'[{\"Id\":1462,\"MSSubClass\":20},{\"MSSubClass\":55},{\"Id\":41,\"MSSubClass\":44}]'"
      ]
     },
     "execution_count": 19,
     "metadata": {},
     "output_type": "execute_result"
    }
   ],
   "source": [
    "x = '[{\"Id\":1462,\"MSSubClass\":20},{\"MSSubClass\":55},{\"Id\":41,\"MSSubClass\":44}]'\n",
    "x"
   ]
  },
  {
   "cell_type": "code",
   "execution_count": 20,
   "metadata": {},
   "outputs": [
    {
     "data": {
      "text/plain": [
       "[{'Id': 1462, 'MSSubClass': 20},\n",
       " {'MSSubClass': 55},\n",
       " {'Id': 41, 'MSSubClass': 44}]"
      ]
     },
     "execution_count": 20,
     "metadata": {},
     "output_type": "execute_result"
    }
   ],
   "source": [
    "json.loads(x)"
   ]
  },
  {
   "cell_type": "code",
   "execution_count": 21,
   "metadata": {},
   "outputs": [],
   "source": [
    "class TestSchemaStrict(Schema):\n",
    "    Id = fields.Integer(required=True)\n",
    "    MSSubClass = fields.Integer() "
   ]
  },
  {
   "cell_type": "code",
   "execution_count": 22,
   "metadata": {},
   "outputs": [
    {
     "data": {
      "text/plain": [
       "{1: {'Id': ['Missing data for required field.']}}"
      ]
     },
     "execution_count": 22,
     "metadata": {},
     "output_type": "execute_result"
    }
   ],
   "source": [
    "schema = TestSchemaStrict(many=True)\n",
    "errors = None\n",
    "try:\n",
    "    schema.loads(x)\n",
    "except ValidationError as exc:\n",
    "    errors = exc.messages\n",
    "\n",
    "errors"
   ]
  },
  {
   "cell_type": "code",
   "execution_count": 24,
   "metadata": {},
   "outputs": [
    {
     "data": {
      "text/plain": [
       "1"
      ]
     },
     "execution_count": 24,
     "metadata": {},
     "output_type": "execute_result"
    }
   ],
   "source": [
    "len(errors)"
   ]
  },
  {
   "cell_type": "code",
   "execution_count": 25,
   "metadata": {},
   "outputs": [
    {
     "data": {
      "text/plain": [
       "dict"
      ]
     },
     "execution_count": 25,
     "metadata": {},
     "output_type": "execute_result"
    }
   ],
   "source": [
    "type(errors)"
   ]
  },
  {
   "cell_type": "code",
   "execution_count": 28,
   "metadata": {},
   "outputs": [
    {
     "data": {
      "text/plain": [
       "dict_keys([1])"
      ]
     },
     "execution_count": 28,
     "metadata": {},
     "output_type": "execute_result"
    }
   ],
   "source": [
    "errors.keys()"
   ]
  },
  {
   "cell_type": "code",
   "execution_count": 30,
   "metadata": {},
   "outputs": [
    {
     "data": {
      "text/plain": [
       "1"
      ]
     },
     "execution_count": 30,
     "metadata": {},
     "output_type": "execute_result"
    }
   ],
   "source": [
    "list(errors.keys())[0]"
   ]
  },
  {
   "cell_type": "code",
   "execution_count": 31,
   "metadata": {},
   "outputs": [
    {
     "data": {
      "text/plain": [
       "[{'Id': 1462,\n",
       "  'MSSubClass': 20,\n",
       "  'MSZoning': 'RL',\n",
       "  'LotFrontage': 81.0,\n",
       "  'LotArea': 14267,\n",
       "  'Street': 'Pave',\n",
       "  'Alley': None,\n",
       "  'LotShape': 'IR1',\n",
       "  'LandContour': 'Lvl',\n",
       "  'Utilities': 'AllPub',\n",
       "  'LotConfig': 'Corner',\n",
       "  'LandSlope': 'Gtl',\n",
       "  'Neighborhood': 'NAmes',\n",
       "  'Condition1': 'Norm',\n",
       "  'Condition2': 'Norm',\n",
       "  'BldgType': '1Fam',\n",
       "  'HouseStyle': '1Story',\n",
       "  'OverallQual': 6,\n",
       "  'OverallCond': 6,\n",
       "  'YearBuilt': 1958,\n",
       "  'YearRemodAdd': 1958,\n",
       "  'RoofStyle': 'Hip',\n",
       "  'RoofMatl': 'CompShg',\n",
       "  'Exterior1st': 'Wd Sdng',\n",
       "  'Exterior2nd': 'Wd Sdng',\n",
       "  'MasVnrType': 'BrkFace',\n",
       "  'MasVnrArea': 108.0,\n",
       "  'ExterQual': 'TA',\n",
       "  'ExterCond': 'TA',\n",
       "  'Foundation': 'CBlock',\n",
       "  'BsmtQual': 'TA',\n",
       "  'BsmtCond': 'TA',\n",
       "  'BsmtExposure': 'No',\n",
       "  'BsmtFinType1': 'ALQ',\n",
       "  'BsmtFinSF1': 923.0,\n",
       "  'BsmtFinType2': 'Unf',\n",
       "  'BsmtFinSF2': 0.0,\n",
       "  'BsmtUnfSF': 406.0,\n",
       "  'TotalBsmtSF': 1329.0,\n",
       "  'Heating': 'GasA',\n",
       "  'HeatingQC': 'TA',\n",
       "  'CentralAir': 'Y',\n",
       "  'Electrical': 'SBrkr',\n",
       "  '1stFlrSF': 1329,\n",
       "  '2ndFlrSF': 0,\n",
       "  'LowQualFinSF': 0,\n",
       "  'GrLivArea': 1329,\n",
       "  'BsmtFullBath': 0.0,\n",
       "  'BsmtHalfBath': 0.0,\n",
       "  'FullBath': 1,\n",
       "  'HalfBath': 1,\n",
       "  'BedroomAbvGr': 3,\n",
       "  'KitchenAbvGr': 1,\n",
       "  'KitchenQual': 'Gd',\n",
       "  'TotRmsAbvGrd': 6,\n",
       "  'Functional': 'Typ',\n",
       "  'Fireplaces': 0,\n",
       "  'FireplaceQu': None,\n",
       "  'GarageType': 'Attchd',\n",
       "  'GarageYrBlt': 1958.0,\n",
       "  'GarageFinish': 'Unf',\n",
       "  'GarageCars': 1.0,\n",
       "  'GarageArea': 312.0,\n",
       "  'GarageQual': 'TA',\n",
       "  'GarageCond': 'TA',\n",
       "  'PavedDrive': 'Y',\n",
       "  'WoodDeckSF': 393,\n",
       "  'OpenPorchSF': 36,\n",
       "  'EnclosedPorch': 0,\n",
       "  '3SsnPorch': 0,\n",
       "  'ScreenPorch': 0,\n",
       "  'PoolArea': 0,\n",
       "  'PoolQC': None,\n",
       "  'Fence': None,\n",
       "  'MiscFeature': 'Gar2',\n",
       "  'MiscVal': 12500,\n",
       "  'MoSold': 6,\n",
       "  'YrSold': 2010,\n",
       "  'SaleType': 'WD',\n",
       "  'SaleCondition': 'Normal'},\n",
       " {'Id': 1463,\n",
       "  'MSSubClass': 60,\n",
       "  'MSZoning': 'RL',\n",
       "  'LotFrontage': 74.0,\n",
       "  'LotArea': 13830,\n",
       "  'Street': 'Pave',\n",
       "  'Alley': None,\n",
       "  'LotShape': 'IR1',\n",
       "  'LandContour': 'Lvl',\n",
       "  'Utilities': 'AllPub',\n",
       "  'LotConfig': 'Inside',\n",
       "  'LandSlope': 'Gtl',\n",
       "  'Neighborhood': 'Gilbert',\n",
       "  'Condition1': 'Norm',\n",
       "  'Condition2': 'Norm',\n",
       "  'BldgType': '1Fam',\n",
       "  'HouseStyle': '2Story',\n",
       "  'OverallQual': 5,\n",
       "  'OverallCond': 5,\n",
       "  'YearBuilt': 1997,\n",
       "  'YearRemodAdd': 1998,\n",
       "  'RoofStyle': 'Gable',\n",
       "  'RoofMatl': 'CompShg',\n",
       "  'Exterior1st': 'VinylSd',\n",
       "  'Exterior2nd': 'VinylSd',\n",
       "  'MasVnrType': 'None',\n",
       "  'MasVnrArea': 0.0,\n",
       "  'ExterQual': 'TA',\n",
       "  'ExterCond': 'TA',\n",
       "  'Foundation': 'PConc',\n",
       "  'BsmtQual': 'Gd',\n",
       "  'BsmtCond': 'TA',\n",
       "  'BsmtExposure': 'No',\n",
       "  'BsmtFinType1': 'GLQ',\n",
       "  'BsmtFinSF1': 791.0,\n",
       "  'BsmtFinType2': 'Unf',\n",
       "  'BsmtFinSF2': 0.0,\n",
       "  'BsmtUnfSF': 137.0,\n",
       "  'TotalBsmtSF': 928.0,\n",
       "  'Heating': 'GasA',\n",
       "  'HeatingQC': 'Gd',\n",
       "  'CentralAir': 'Y',\n",
       "  'Electrical': 'SBrkr',\n",
       "  '1stFlrSF': 928,\n",
       "  '2ndFlrSF': 701,\n",
       "  'LowQualFinSF': 0,\n",
       "  'GrLivArea': 1629,\n",
       "  'BsmtFullBath': 0.0,\n",
       "  'BsmtHalfBath': 0.0,\n",
       "  'FullBath': 2,\n",
       "  'HalfBath': 1,\n",
       "  'BedroomAbvGr': 3,\n",
       "  'KitchenAbvGr': 1,\n",
       "  'KitchenQual': 'TA',\n",
       "  'TotRmsAbvGrd': 6,\n",
       "  'Functional': 'Typ',\n",
       "  'Fireplaces': 1,\n",
       "  'FireplaceQu': 'TA',\n",
       "  'GarageType': 'Attchd',\n",
       "  'GarageYrBlt': 1997.0,\n",
       "  'GarageFinish': 'Fin',\n",
       "  'GarageCars': 2.0,\n",
       "  'GarageArea': 482.0,\n",
       "  'GarageQual': 'TA',\n",
       "  'GarageCond': 'TA',\n",
       "  'PavedDrive': 'Y',\n",
       "  'WoodDeckSF': 212,\n",
       "  'OpenPorchSF': 34,\n",
       "  'EnclosedPorch': 0,\n",
       "  '3SsnPorch': 0,\n",
       "  'ScreenPorch': 0,\n",
       "  'PoolArea': 0,\n",
       "  'PoolQC': None,\n",
       "  'Fence': 'MnPrv',\n",
       "  'MiscFeature': None,\n",
       "  'MiscVal': 0,\n",
       "  'MoSold': 3,\n",
       "  'YrSold': 2010,\n",
       "  'SaleType': 'WD',\n",
       "  'SaleCondition': 'Normal'}]"
      ]
     },
     "execution_count": 31,
     "metadata": {},
     "output_type": "execute_result"
    }
   ],
   "source": [
    "json.loads('[{\"Id\":1462,\"MSSubClass\":20,\"MSZoning\":\"RL\",\"LotFrontage\":81.0,\"LotArea\":14267,\"Street\":\"Pave\",\"Alley\":null,\"LotShape\":\"IR1\",\"LandContour\":\"Lvl\",\"Utilities\":\"AllPub\",\"LotConfig\":\"Corner\",\"LandSlope\":\"Gtl\",\"Neighborhood\":\"NAmes\",\"Condition1\":\"Norm\",\"Condition2\":\"Norm\",\"BldgType\":\"1Fam\",\"HouseStyle\":\"1Story\",\"OverallQual\":6,\"OverallCond\":6,\"YearBuilt\":1958,\"YearRemodAdd\":1958,\"RoofStyle\":\"Hip\",\"RoofMatl\":\"CompShg\",\"Exterior1st\":\"Wd Sdng\",\"Exterior2nd\":\"Wd Sdng\",\"MasVnrType\":\"BrkFace\",\"MasVnrArea\":108.0,\"ExterQual\":\"TA\",\"ExterCond\":\"TA\",\"Foundation\":\"CBlock\",\"BsmtQual\":\"TA\",\"BsmtCond\":\"TA\",\"BsmtExposure\":\"No\",\"BsmtFinType1\":\"ALQ\",\"BsmtFinSF1\":923.0,\"BsmtFinType2\":\"Unf\",\"BsmtFinSF2\":0.0,\"BsmtUnfSF\":406.0,\"TotalBsmtSF\":1329.0,\"Heating\":\"GasA\",\"HeatingQC\":\"TA\",\"CentralAir\":\"Y\",\"Electrical\":\"SBrkr\",\"1stFlrSF\":1329,\"2ndFlrSF\":0,\"LowQualFinSF\":0,\"GrLivArea\":1329,\"BsmtFullBath\":0.0,\"BsmtHalfBath\":0.0,\"FullBath\":1,\"HalfBath\":1,\"BedroomAbvGr\":3,\"KitchenAbvGr\":1,\"KitchenQual\":\"Gd\",\"TotRmsAbvGrd\":6,\"Functional\":\"Typ\",\"Fireplaces\":0,\"FireplaceQu\":null,\"GarageType\":\"Attchd\",\"GarageYrBlt\":1958.0,\"GarageFinish\":\"Unf\",\"GarageCars\":1.0,\"GarageArea\":312.0,\"GarageQual\":\"TA\",\"GarageCond\":\"TA\",\"PavedDrive\":\"Y\",\"WoodDeckSF\":393,\"OpenPorchSF\":36,\"EnclosedPorch\":0,\"3SsnPorch\":0,\"ScreenPorch\":0,\"PoolArea\":0,\"PoolQC\":null,\"Fence\":null,\"MiscFeature\":\"Gar2\",\"MiscVal\":12500,\"MoSold\":6,\"YrSold\":2010,\"SaleType\":\"WD\",\"SaleCondition\":\"Normal\"},{\"Id\":1463,\"MSSubClass\":60,\"MSZoning\":\"RL\",\"LotFrontage\":74.0,\"LotArea\":13830,\"Street\":\"Pave\",\"Alley\":null,\"LotShape\":\"IR1\",\"LandContour\":\"Lvl\",\"Utilities\":\"AllPub\",\"LotConfig\":\"Inside\",\"LandSlope\":\"Gtl\",\"Neighborhood\":\"Gilbert\",\"Condition1\":\"Norm\",\"Condition2\":\"Norm\",\"BldgType\":\"1Fam\",\"HouseStyle\":\"2Story\",\"OverallQual\":5,\"OverallCond\":5,\"YearBuilt\":1997,\"YearRemodAdd\":1998,\"RoofStyle\":\"Gable\",\"RoofMatl\":\"CompShg\",\"Exterior1st\":\"VinylSd\",\"Exterior2nd\":\"VinylSd\",\"MasVnrType\":\"None\",\"MasVnrArea\":0.0,\"ExterQual\":\"TA\",\"ExterCond\":\"TA\",\"Foundation\":\"PConc\",\"BsmtQual\":\"Gd\",\"BsmtCond\":\"TA\",\"BsmtExposure\":\"No\",\"BsmtFinType1\":\"GLQ\",\"BsmtFinSF1\":791.0,\"BsmtFinType2\":\"Unf\",\"BsmtFinSF2\":0.0,\"BsmtUnfSF\":137.0,\"TotalBsmtSF\":928.0,\"Heating\":\"GasA\",\"HeatingQC\":\"Gd\",\"CentralAir\":\"Y\",\"Electrical\":\"SBrkr\",\"1stFlrSF\":928,\"2ndFlrSF\":701,\"LowQualFinSF\":0,\"GrLivArea\":1629,\"BsmtFullBath\":0.0,\"BsmtHalfBath\":0.0,\"FullBath\":2,\"HalfBath\":1,\"BedroomAbvGr\":3,\"KitchenAbvGr\":1,\"KitchenQual\":\"TA\",\"TotRmsAbvGrd\":6,\"Functional\":\"Typ\",\"Fireplaces\":1,\"FireplaceQu\":\"TA\",\"GarageType\":\"Attchd\",\"GarageYrBlt\":1997.0,\"GarageFinish\":\"Fin\",\"GarageCars\":2.0,\"GarageArea\":482.0,\"GarageQual\":\"TA\",\"GarageCond\":\"TA\",\"PavedDrive\":\"Y\",\"WoodDeckSF\":212,\"OpenPorchSF\":34,\"EnclosedPorch\":0,\"3SsnPorch\":0,\"ScreenPorch\":0,\"PoolArea\":0,\"PoolQC\":null,\"Fence\":\"MnPrv\",\"MiscFeature\":null,\"MiscVal\":0,\"MoSold\":3,\"YrSold\":2010,\"SaleType\":\"WD\",\"SaleCondition\":\"Normal\"}]')"
   ]
  }
 ],
 "metadata": {
  "kernelspec": {
   "display_name": "Python 3",
   "language": "python",
   "name": "python3"
  },
  "language_info": {
   "codemirror_mode": {
    "name": "ipython",
    "version": 3
   },
   "file_extension": ".py",
   "mimetype": "text/x-python",
   "name": "python",
   "nbconvert_exporter": "python",
   "pygments_lexer": "ipython3",
   "version": "3.7.6"
  }
 },
 "nbformat": 4,
 "nbformat_minor": 4
}
